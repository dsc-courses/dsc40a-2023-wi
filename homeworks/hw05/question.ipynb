{
 "cells": [
  {
   "cell_type": "markdown",
   "source": [
    "# Homework 5 Supplemental Notebook\n",
    "\n",
    "## DSC 40A, Winter 2023"
   ],
   "metadata": {}
  },
  {
   "cell_type": "code",
   "execution_count": null,
   "source": [
    "import pandas as pd\n",
    "import numpy as np\n",
    "import plotly.express as px\n",
    "import plotly.graph_objects as go"
   ],
   "outputs": [],
   "metadata": {}
  },
  {
   "cell_type": "markdown",
   "source": [
    "## Problem 1 – What do you k-mean?"
   ],
   "metadata": {}
  },
  {
   "cell_type": "markdown",
   "source": [
    "### Part B\n",
    "\n",
    "**Note that you don't need to write any code yourself in this question.**\n",
    "\n",
    "Run the cell below to load in our dataset, which contains many (209) attributes for each country, taken from [here](https://databank.worldbank.org/source/world-development-indicators#)."
   ],
   "metadata": {}
  },
  {
   "cell_type": "code",
   "execution_count": null,
   "source": [
    "world_bank = pd.read_csv('data/world_bank_data.csv') \\\n",
    "                .set_index('country') \\\n",
    "                .fillna(0) # There are null values in the dataset; .fillna(0) replaces them with 0s\n",
    "world_bank"
   ],
   "outputs": [],
   "metadata": {}
  },
  {
   "cell_type": "markdown",
   "source": [
    "Let's try and cluster this dataset. Note that there's no easy way to visualize the dataset before clustering since it is 209-dimensional. We will use the KMeans method built into `scikit-learn`, a popular Python library for machine learning."
   ],
   "metadata": {}
  },
  {
   "cell_type": "code",
   "execution_count": null,
   "source": [
    "from sklearn.cluster import KMeans"
   ],
   "outputs": [],
   "metadata": {}
  },
  {
   "cell_type": "markdown",
   "source": [
    "Run the cell below to perform the clustering and create a DataFrame with the results. (`random_state=42` ensures that we get the same results every time we run this cell.)"
   ],
   "metadata": {}
  },
  {
   "cell_type": "code",
   "execution_count": null,
   "source": [
    "world_bank_clustering = KMeans(n_clusters=4, random_state=42).fit(world_bank)\n",
    "countries_and_labels = pd.DataFrame(index=world_bank.index) \\\n",
    "                         .assign(cluster=world_bank_clustering.labels_.astype(str))"
   ],
   "outputs": [],
   "metadata": {}
  },
  {
   "cell_type": "code",
   "execution_count": null,
   "source": [
    "countries_and_labels"
   ],
   "outputs": [],
   "metadata": {}
  },
  {
   "cell_type": "markdown",
   "source": [
    "Now we have a cluster for each country, but it's kind of hard to tell which country is in which cluster. Run the cell below to see a map."
   ],
   "metadata": {}
  },
  {
   "cell_type": "code",
   "execution_count": null,
   "source": [
    "px.choropleth(countries_and_labels.reset_index(),\n",
    "              locations = 'country',\n",
    "              locationmode = 'country names',\n",
    "              color = 'cluster',\n",
    "              hover_name = 'country',\n",
    "              title = 'Country Clusters',\n",
    "              category_orders = {'cluster': ['0', '1', '2', '3']}\n",
    ")"
   ],
   "outputs": [],
   "metadata": {}
  },
  {
   "cell_type": "markdown",
   "source": [
    "If you aren't the greatest at geography, don't worry – you can hover over a country to see its name.\n",
    "\n",
    "If you'd prefer, you can look at the cluster assignments in text form below."
   ],
   "metadata": {}
  },
  {
   "cell_type": "code",
   "execution_count": null,
   "source": [
    "# Run this cell.\n",
    "def show_all_clusters(cluster_df):\n",
    "    for v in sorted(np.unique(cluster_df.get('cluster'))):\n",
    "        print(f'Cluster {v}:', list(cluster_df[cluster_df.get('cluster') == v].get('cluster').index), '\\n')\n",
    "        \n",
    "show_all_clusters(countries_and_labels)"
   ],
   "outputs": [],
   "metadata": {}
  },
  {
   "cell_type": "markdown",
   "source": [
    "You may notice an issue – the vast majority of countries are in the same cluster! That's not all that useful.\n",
    "\n",
    "It turns out that if we **standardize** our data, as we do when computing standardized regression coefficients, the results turn out different. Run the cells below to standardize our dataset and re-run k-means clustering."
   ],
   "metadata": {}
  },
  {
   "cell_type": "code",
   "execution_count": null,
   "source": [
    "world_bank_standardized = (world_bank - np.mean(world_bank, axis=0)) / np.std(world_bank, axis=0)\n",
    "world_bank_standardized"
   ],
   "outputs": [],
   "metadata": {}
  },
  {
   "cell_type": "code",
   "execution_count": null,
   "source": [
    "world_bank_standardized_clustering = KMeans(n_clusters=4, random_state=42).fit(world_bank_standardized)\n",
    "countries_and_labels_standardized = pd.DataFrame(index=world_bank_standardized.index) \\\n",
    "                                      .assign(cluster=world_bank_standardized_clustering.labels_.astype(str))"
   ],
   "outputs": [],
   "metadata": {}
  },
  {
   "cell_type": "markdown",
   "source": [
    "We can draw the same map as before:"
   ],
   "metadata": {}
  },
  {
   "cell_type": "code",
   "execution_count": null,
   "source": [
    "px.choropleth(countries_and_labels_standardized.reset_index(),\n",
    "              locations = 'country',\n",
    "              locationmode = 'country names',\n",
    "              color = 'cluster',\n",
    "              hover_name = 'country',\n",
    "              title = 'Country Clusters After Standardization',\n",
    "              category_orders = {'cluster': ['0', '1', '2', '3']}\n",
    ")"
   ],
   "outputs": [],
   "metadata": {}
  },
  {
   "cell_type": "markdown",
   "source": [
    "Note that in this new map, the clusters are a bit more \"even\" in terms of the number of countries in them. (The cluster numbers and colors are arbitrary, meaning that purple in the previous map is not related to purple in this map.)"
   ],
   "metadata": {}
  },
  {
   "cell_type": "code",
   "execution_count": null,
   "source": [
    "show_all_clusters(countries_and_labels_standardized)"
   ],
   "outputs": [],
   "metadata": {}
  },
  {
   "cell_type": "markdown",
   "source": [
    "<p style=\"color:red\"><b>Your Job</b></p>\n",
    "\n",
    "In your PDF writeup, write the answers to the following two questions:\n",
    "\n",
    "(i) Come up with a simple description for each of the 4 clusters created after standardizing our features.\n",
    "\n",
    "(ii) Why do you think standardizing our features before clustering had such an impact? (_Hint: Scroll up and compare the values in `world_bank` to those in `world_bank_standardized`.)"
   ],
   "metadata": {}
  }
 ],
 "metadata": {
  "kernelspec": {
   "name": "python3",
   "display_name": "Python 3.8.9 64-bit"
  },
  "language_info": {
   "codemirror_mode": {
    "name": "ipython",
    "version": 3
   },
   "file_extension": ".py",
   "mimetype": "text/x-python",
   "name": "python",
   "nbconvert_exporter": "python",
   "pygments_lexer": "ipython3",
   "version": "3.8.9"
  },
  "interpreter": {
   "hash": "31f2aee4e71d21fbe5cf8b01ff0e069b9275f58929596ceb00d14d90e3e16cd6"
  }
 },
 "nbformat": 4,
 "nbformat_minor": 4
}